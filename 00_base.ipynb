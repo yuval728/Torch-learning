{
  "nbformat": 4,
  "nbformat_minor": 0,
  "metadata": {
    "colab": {
      "provenance": [],
      "collapsed_sections": [
        "0DHYrrzENtfe",
        "k-vgvbthUeTW",
        "sbLmmxUAVkUj",
        "Tk8R1Cw9lwQG"
      ],
      "gpuType": "T4",
      "authorship_tag": "ABX9TyMpYeKe/UQDcWc+Jhni6WFP",
      "include_colab_link": true
    },
    "kernelspec": {
      "name": "python3",
      "display_name": "Python 3"
    },
    "language_info": {
      "name": "python"
    },
    "accelerator": "GPU"
  },
  "cells": [
    {
      "cell_type": "markdown",
      "metadata": {
        "id": "view-in-github",
        "colab_type": "text"
      },
      "source": [
        "<a href=\"https://colab.research.google.com/github/yuval728/Torch-learning/blob/master/00_base.ipynb\" target=\"_parent\"><img src=\"https://colab.research.google.com/assets/colab-badge.svg\" alt=\"Open In Colab\"/></a>"
      ]
    },
    {
      "cell_type": "code",
      "source": [
        "import torch\n",
        "import pandas as pd\n",
        "import numpy as np\n",
        "import matplotlib.pyplot as plt\n",
        "print(torch.__version__)"
      ],
      "metadata": {
        "colab": {
          "base_uri": "https://localhost:8080/"
        },
        "id": "4QHGBeinMAY0",
        "outputId": "f2d5ebba-8938-4fd0-b3da-d78a222bbf83"
      },
      "execution_count": 1,
      "outputs": [
        {
          "output_type": "stream",
          "name": "stdout",
          "text": [
            "2.2.1+cu121\n"
          ]
        }
      ]
    },
    {
      "cell_type": "markdown",
      "source": [
        "## Intro to tensros\n",
        "\n",
        "### creating tensors"
      ],
      "metadata": {
        "id": "0DHYrrzENtfe"
      }
    },
    {
      "cell_type": "code",
      "source": [
        "# scalar\n",
        "scalar=torch.tensor(7)\n",
        "print(scalar, scalar.ndim, scalar.item())"
      ],
      "metadata": {
        "colab": {
          "base_uri": "https://localhost:8080/"
        },
        "id": "Haz30Z36N7gu",
        "outputId": "e1d88612-d3c3-4f47-a963-880995fc322b"
      },
      "execution_count": 2,
      "outputs": [
        {
          "output_type": "stream",
          "name": "stdout",
          "text": [
            "tensor(7) 0 7\n"
          ]
        }
      ]
    },
    {
      "cell_type": "code",
      "source": [
        "#vector\n",
        "vector=torch.tensor([7,7])\n",
        "print(vector, vector.ndim)\n",
        "print(vector.shape)"
      ],
      "metadata": {
        "colab": {
          "base_uri": "https://localhost:8080/"
        },
        "id": "vmmxdPL4OL2d",
        "outputId": "5eefa69d-fb86-46cc-cf06-f1cedc1317e4"
      },
      "execution_count": 3,
      "outputs": [
        {
          "output_type": "stream",
          "name": "stdout",
          "text": [
            "tensor([7, 7]) 1\n",
            "torch.Size([2])\n"
          ]
        }
      ]
    },
    {
      "cell_type": "code",
      "source": [
        "#matrix\n",
        "Matrix=torch.tensor([[7,8,9],[1,2,3]])\n",
        "print(Matrix,Matrix.ndim)\n",
        "print(Matrix.shape)"
      ],
      "metadata": {
        "colab": {
          "base_uri": "https://localhost:8080/"
        },
        "id": "I6k3PxvVPH4Z",
        "outputId": "f9fde92f-6b27-431a-95c0-8c2eafdc5cc2"
      },
      "execution_count": 4,
      "outputs": [
        {
          "output_type": "stream",
          "name": "stdout",
          "text": [
            "tensor([[7, 8, 9],\n",
            "        [1, 2, 3]]) 2\n",
            "torch.Size([2, 3])\n"
          ]
        }
      ]
    },
    {
      "cell_type": "code",
      "source": [
        "#Tensor\n",
        "Tensor=torch.tensor([[[1,2,3],[4,5,6],[7,8,9] ]])\n",
        "print(Tensor,Tensor.ndim)\n",
        "print(Tensor.shape)"
      ],
      "metadata": {
        "colab": {
          "base_uri": "https://localhost:8080/"
        },
        "id": "LojkicSkPrhG",
        "outputId": "7636649a-25f8-4ba6-8da6-92c53460a9d1"
      },
      "execution_count": 5,
      "outputs": [
        {
          "output_type": "stream",
          "name": "stdout",
          "text": [
            "tensor([[[1, 2, 3],\n",
            "         [4, 5, 6],\n",
            "         [7, 8, 9]]]) 3\n",
            "torch.Size([1, 3, 3])\n"
          ]
        }
      ]
    },
    {
      "cell_type": "code",
      "source": [
        "#Random tensors\n",
        "random_tensor=torch.rand(3,4)\n",
        "print(random_tensor)"
      ],
      "metadata": {
        "colab": {
          "base_uri": "https://localhost:8080/"
        },
        "id": "xib4s8NTQI9k",
        "outputId": "bdd51fe7-0670-47ee-a220-c215f255ab5e"
      },
      "execution_count": 6,
      "outputs": [
        {
          "output_type": "stream",
          "name": "stdout",
          "text": [
            "tensor([[8.6766e-04, 8.6907e-01, 7.4503e-01, 6.1361e-01],\n",
            "        [7.3923e-03, 7.4612e-01, 7.1894e-01, 5.0885e-01],\n",
            "        [2.6881e-01, 1.3968e-01, 9.4795e-01, 7.6160e-01]])\n"
          ]
        }
      ]
    },
    {
      "cell_type": "code",
      "source": [
        "rand_image_tensor=torch.rand(size=(224,224,3))\n",
        "rand_image_tensor.shape, rand_image_tensor.ndim"
      ],
      "metadata": {
        "colab": {
          "base_uri": "https://localhost:8080/"
        },
        "id": "1zomjvLWRiD7",
        "outputId": "693af771-e9da-4892-aa67-4bf261f83ea3"
      },
      "execution_count": 7,
      "outputs": [
        {
          "output_type": "execute_result",
          "data": {
            "text/plain": [
              "(torch.Size([224, 224, 3]), 3)"
            ]
          },
          "metadata": {},
          "execution_count": 7
        }
      ]
    },
    {
      "cell_type": "code",
      "source": [
        "zeros=torch.zeros(3,4)\n",
        "zeros"
      ],
      "metadata": {
        "colab": {
          "base_uri": "https://localhost:8080/"
        },
        "id": "ufZzYM82ScdZ",
        "outputId": "c5bcb7b5-59f8-4b91-80a2-3b2434d7b6ff"
      },
      "execution_count": 8,
      "outputs": [
        {
          "output_type": "execute_result",
          "data": {
            "text/plain": [
              "tensor([[0., 0., 0., 0.],\n",
              "        [0., 0., 0., 0.],\n",
              "        [0., 0., 0., 0.]])"
            ]
          },
          "metadata": {},
          "execution_count": 8
        }
      ]
    },
    {
      "cell_type": "code",
      "source": [
        "zeros*random_tensor"
      ],
      "metadata": {
        "colab": {
          "base_uri": "https://localhost:8080/"
        },
        "id": "seiI8QDcT9g8",
        "outputId": "1e128902-9847-4d27-a58d-8c796535bb17"
      },
      "execution_count": 9,
      "outputs": [
        {
          "output_type": "execute_result",
          "data": {
            "text/plain": [
              "tensor([[0., 0., 0., 0.],\n",
              "        [0., 0., 0., 0.],\n",
              "        [0., 0., 0., 0.]])"
            ]
          },
          "metadata": {},
          "execution_count": 9
        }
      ]
    },
    {
      "cell_type": "code",
      "source": [
        "ones=torch.ones(3,4)\n",
        "ones"
      ],
      "metadata": {
        "colab": {
          "base_uri": "https://localhost:8080/"
        },
        "id": "MPRCEXoeUBGS",
        "outputId": "976bd834-9b86-4d03-aab8-9b414c9b92f2"
      },
      "execution_count": 10,
      "outputs": [
        {
          "output_type": "execute_result",
          "data": {
            "text/plain": [
              "tensor([[1., 1., 1., 1.],\n",
              "        [1., 1., 1., 1.],\n",
              "        [1., 1., 1., 1.]])"
            ]
          },
          "metadata": {},
          "execution_count": 10
        }
      ]
    },
    {
      "cell_type": "code",
      "source": [
        "ones.dtype"
      ],
      "metadata": {
        "colab": {
          "base_uri": "https://localhost:8080/"
        },
        "id": "OxPt98uBUKZ8",
        "outputId": "33b0da31-616b-43f9-ffa3-885b55f1ef23"
      },
      "execution_count": 11,
      "outputs": [
        {
          "output_type": "execute_result",
          "data": {
            "text/plain": [
              "torch.float32"
            ]
          },
          "metadata": {},
          "execution_count": 11
        }
      ]
    },
    {
      "cell_type": "markdown",
      "source": [
        "## Creating a range of tensors and tensors-like\n"
      ],
      "metadata": {
        "id": "k-vgvbthUeTW"
      }
    },
    {
      "cell_type": "code",
      "source": [
        "one_to_ten=torch.arange(start=0, end=10, step=2)\n",
        "one_to_ten"
      ],
      "metadata": {
        "colab": {
          "base_uri": "https://localhost:8080/"
        },
        "id": "3RmhB_SDUJmQ",
        "outputId": "ed84e97f-7ae2-4a60-c15e-c943967afd6b"
      },
      "execution_count": 12,
      "outputs": [
        {
          "output_type": "execute_result",
          "data": {
            "text/plain": [
              "tensor([0, 2, 4, 6, 8])"
            ]
          },
          "metadata": {},
          "execution_count": 12
        }
      ]
    },
    {
      "cell_type": "code",
      "source": [
        "zeros_like=torch.zeros_like(input=one_to_ten)\n",
        "zeros_like"
      ],
      "metadata": {
        "colab": {
          "base_uri": "https://localhost:8080/"
        },
        "id": "U9vWkc36UoTR",
        "outputId": "ed63f830-fa49-48f8-ccd8-bbd2fc576a90"
      },
      "execution_count": 13,
      "outputs": [
        {
          "output_type": "execute_result",
          "data": {
            "text/plain": [
              "tensor([0, 0, 0, 0, 0])"
            ]
          },
          "metadata": {},
          "execution_count": 13
        }
      ]
    },
    {
      "cell_type": "markdown",
      "source": [
        "## Tensor Datatypes and attributes"
      ],
      "metadata": {
        "id": "sbLmmxUAVkUj"
      }
    },
    {
      "cell_type": "code",
      "source": [
        "dtype=torch.tensor([3.0,6.0,9.0],\n",
        "                  dtype=None, #torch.float32, etc\n",
        "                  device='cpu', #'cuda' what device is your tensor on\n",
        "                  requires_grad=False # To track gradients\n",
        "                  )\n",
        "dtype, dtype.dtype"
      ],
      "metadata": {
        "colab": {
          "base_uri": "https://localhost:8080/"
        },
        "id": "K9KPMj-9VcI6",
        "outputId": "ce299fa6-f24b-4eac-b563-ebb80709181b"
      },
      "execution_count": 14,
      "outputs": [
        {
          "output_type": "execute_result",
          "data": {
            "text/plain": [
              "(tensor([3., 6., 9.]), torch.float32)"
            ]
          },
          "metadata": {},
          "execution_count": 14
        }
      ]
    },
    {
      "cell_type": "code",
      "source": [
        "float_16_tensor=dtype.type(torch.float16)\n",
        "float_16_tensor"
      ],
      "metadata": {
        "colab": {
          "base_uri": "https://localhost:8080/"
        },
        "id": "_n7fUzgJWMB5",
        "outputId": "a37f9630-f779-4551-dc5f-854da9686acf"
      },
      "execution_count": 15,
      "outputs": [
        {
          "output_type": "execute_result",
          "data": {
            "text/plain": [
              "tensor([3., 6., 9.], dtype=torch.float16)"
            ]
          },
          "metadata": {},
          "execution_count": 15
        }
      ]
    },
    {
      "cell_type": "code",
      "source": [
        "float_16_tensor.dtype, float_16_tensor.shape, float_16_tensor.device"
      ],
      "metadata": {
        "colab": {
          "base_uri": "https://localhost:8080/"
        },
        "id": "cFWPSyC8X2cF",
        "outputId": "484aa886-6330-453e-b862-39ab8de7e253"
      },
      "execution_count": 16,
      "outputs": [
        {
          "output_type": "execute_result",
          "data": {
            "text/plain": [
              "(torch.float16, torch.Size([3]), device(type='cpu'))"
            ]
          },
          "metadata": {},
          "execution_count": 16
        }
      ]
    },
    {
      "cell_type": "code",
      "source": [
        "tensor=torch.tensor([1,2,3])\n",
        "tensor"
      ],
      "metadata": {
        "colab": {
          "base_uri": "https://localhost:8080/"
        },
        "id": "aC_It0DnZDZg",
        "outputId": "c15a97e9-7453-41ba-a754-960431565395"
      },
      "execution_count": 17,
      "outputs": [
        {
          "output_type": "execute_result",
          "data": {
            "text/plain": [
              "tensor([1, 2, 3])"
            ]
          },
          "metadata": {},
          "execution_count": 17
        }
      ]
    },
    {
      "cell_type": "code",
      "source": [
        "tensor+10, tensor-1, tensor*10, tensor/10"
      ],
      "metadata": {
        "colab": {
          "base_uri": "https://localhost:8080/"
        },
        "id": "tw532CJfa89n",
        "outputId": "c71a7ce7-2a8b-436e-a124-975b3a91e702"
      },
      "execution_count": 18,
      "outputs": [
        {
          "output_type": "execute_result",
          "data": {
            "text/plain": [
              "(tensor([11, 12, 13]),\n",
              " tensor([0, 1, 2]),\n",
              " tensor([10, 20, 30]),\n",
              " tensor([0.1000, 0.2000, 0.3000]))"
            ]
          },
          "metadata": {},
          "execution_count": 18
        }
      ]
    },
    {
      "cell_type": "code",
      "source": [
        "tensor*10, torch.mul(tensor,10)"
      ],
      "metadata": {
        "colab": {
          "base_uri": "https://localhost:8080/"
        },
        "id": "eom__oPybACL",
        "outputId": "b8fcbf00-906c-45a1-9749-9e46e9c83a1a"
      },
      "execution_count": 19,
      "outputs": [
        {
          "output_type": "execute_result",
          "data": {
            "text/plain": [
              "(tensor([10, 20, 30]), tensor([10, 20, 30]))"
            ]
          },
          "metadata": {},
          "execution_count": 19
        }
      ]
    },
    {
      "cell_type": "code",
      "source": [
        "torch.matmul(tensor,tensor)"
      ],
      "metadata": {
        "colab": {
          "base_uri": "https://localhost:8080/"
        },
        "id": "z1fcAzirbe6l",
        "outputId": "c15fa8e4-afbd-479b-bb24-ee26c4b09ecd"
      },
      "execution_count": 20,
      "outputs": [
        {
          "output_type": "execute_result",
          "data": {
            "text/plain": [
              "tensor(14)"
            ]
          },
          "metadata": {},
          "execution_count": 20
        }
      ]
    },
    {
      "cell_type": "code",
      "source": [
        "tensor @ tensor  #short form for matmul"
      ],
      "metadata": {
        "colab": {
          "base_uri": "https://localhost:8080/"
        },
        "id": "LvRDpR_DcV3_",
        "outputId": "5e8bebab-a296-4732-a89b-d02783fb2d25"
      },
      "execution_count": 21,
      "outputs": [
        {
          "output_type": "execute_result",
          "data": {
            "text/plain": [
              "tensor(14)"
            ]
          },
          "metadata": {},
          "execution_count": 21
        }
      ]
    },
    {
      "cell_type": "code",
      "source": [
        "torch.rand(2,3) @ torch.rand(3,2)"
      ],
      "metadata": {
        "colab": {
          "base_uri": "https://localhost:8080/"
        },
        "id": "rasakY-pd8p7",
        "outputId": "9643357d-170d-4301-a8b4-a1d5e3119364"
      },
      "execution_count": 22,
      "outputs": [
        {
          "output_type": "execute_result",
          "data": {
            "text/plain": [
              "tensor([[0.9950, 0.9535],\n",
              "        [0.6074, 0.5609]])"
            ]
          },
          "metadata": {},
          "execution_count": 22
        }
      ]
    },
    {
      "cell_type": "code",
      "source": [
        "torch.mm(torch.rand(2,3), torch.rand(2,3).T) #other name for matmul"
      ],
      "metadata": {
        "colab": {
          "base_uri": "https://localhost:8080/"
        },
        "id": "yat5gwjdeU64",
        "outputId": "0be324f2-5619-484b-e74a-ada6686f4a18"
      },
      "execution_count": 23,
      "outputs": [
        {
          "output_type": "execute_result",
          "data": {
            "text/plain": [
              "tensor([[1.3541, 0.8699],\n",
              "        [0.8512, 0.5176]])"
            ]
          },
          "metadata": {},
          "execution_count": 23
        }
      ]
    },
    {
      "cell_type": "markdown",
      "source": [
        "## Tensors Aggregation function"
      ],
      "metadata": {
        "id": "ct0vVdqnjmbg"
      }
    },
    {
      "cell_type": "code",
      "source": [
        "x=torch.arange(0,100,10)\n",
        "x"
      ],
      "metadata": {
        "colab": {
          "base_uri": "https://localhost:8080/"
        },
        "id": "UXys9PWUferH",
        "outputId": "307fc4c1-5da4-4602-c362-288ebd4a45e0"
      },
      "execution_count": 24,
      "outputs": [
        {
          "output_type": "execute_result",
          "data": {
            "text/plain": [
              "tensor([ 0, 10, 20, 30, 40, 50, 60, 70, 80, 90])"
            ]
          },
          "metadata": {},
          "execution_count": 24
        }
      ]
    },
    {
      "cell_type": "code",
      "source": [
        "x.min(), torch.min(x)"
      ],
      "metadata": {
        "colab": {
          "base_uri": "https://localhost:8080/"
        },
        "id": "kE_t-liIjs8P",
        "outputId": "c454479f-7833-42c2-b112-75d5156dcc85"
      },
      "execution_count": 25,
      "outputs": [
        {
          "output_type": "execute_result",
          "data": {
            "text/plain": [
              "(tensor(0), tensor(0))"
            ]
          },
          "metadata": {},
          "execution_count": 25
        }
      ]
    },
    {
      "cell_type": "code",
      "source": [
        "x.max(), x.type(torch.float32).mean(), x.sum()"
      ],
      "metadata": {
        "colab": {
          "base_uri": "https://localhost:8080/"
        },
        "id": "jp8s5ak6jvlQ",
        "outputId": "d7be6768-9146-4828-b55e-a7c6fcb94a06"
      },
      "execution_count": 26,
      "outputs": [
        {
          "output_type": "execute_result",
          "data": {
            "text/plain": [
              "(tensor(90), tensor(45.), tensor(450))"
            ]
          },
          "metadata": {},
          "execution_count": 26
        }
      ]
    },
    {
      "cell_type": "code",
      "source": [
        "x.argmin(), x.argmax()"
      ],
      "metadata": {
        "colab": {
          "base_uri": "https://localhost:8080/"
        },
        "id": "PtG2i6Tfjze_",
        "outputId": "3f444026-12d0-43d0-8605-dd865ab91ea2"
      },
      "execution_count": 27,
      "outputs": [
        {
          "output_type": "execute_result",
          "data": {
            "text/plain": [
              "(tensor(0), tensor(9))"
            ]
          },
          "metadata": {},
          "execution_count": 27
        }
      ]
    },
    {
      "cell_type": "markdown",
      "source": [
        "## Reshaping Stacking Viewing Squeezing Unsqueezing Permuting\n"
      ],
      "metadata": {
        "id": "Tk8R1Cw9lwQG"
      }
    },
    {
      "cell_type": "code",
      "source": [
        "x_reshaped=x.reshape(2,5)\n",
        "x_reshaped, x"
      ],
      "metadata": {
        "colab": {
          "base_uri": "https://localhost:8080/"
        },
        "id": "0LGtAVrtl_HR",
        "outputId": "7ce2a029-5835-4f3d-cdaf-be59cf7fa555"
      },
      "execution_count": 28,
      "outputs": [
        {
          "output_type": "execute_result",
          "data": {
            "text/plain": [
              "(tensor([[ 0, 10, 20, 30, 40],\n",
              "         [50, 60, 70, 80, 90]]),\n",
              " tensor([ 0, 10, 20, 30, 40, 50, 60, 70, 80, 90]))"
            ]
          },
          "metadata": {},
          "execution_count": 28
        }
      ]
    },
    {
      "cell_type": "code",
      "source": [
        "z=x.view(1,10)\n",
        "z,z.shape"
      ],
      "metadata": {
        "colab": {
          "base_uri": "https://localhost:8080/"
        },
        "id": "Vq3QfkJFma2r",
        "outputId": "7a3f0275-809c-4721-e35f-f6bb5ae52d22"
      },
      "execution_count": 29,
      "outputs": [
        {
          "output_type": "execute_result",
          "data": {
            "text/plain": [
              "(tensor([[ 0, 10, 20, 30, 40, 50, 60, 70, 80, 90]]), torch.Size([1, 10]))"
            ]
          },
          "metadata": {},
          "execution_count": 29
        }
      ]
    },
    {
      "cell_type": "code",
      "source": [
        "z[:,0]=5\n",
        "z,x  #both gets changed"
      ],
      "metadata": {
        "colab": {
          "base_uri": "https://localhost:8080/"
        },
        "id": "3DRp2A98nB8N",
        "outputId": "5807f05d-be81-41ff-a0fb-8b43eb280d24"
      },
      "execution_count": 30,
      "outputs": [
        {
          "output_type": "execute_result",
          "data": {
            "text/plain": [
              "(tensor([[ 5, 10, 20, 30, 40, 50, 60, 70, 80, 90]]),\n",
              " tensor([ 5, 10, 20, 30, 40, 50, 60, 70, 80, 90]))"
            ]
          },
          "metadata": {},
          "execution_count": 30
        }
      ]
    },
    {
      "cell_type": "code",
      "source": [
        "x_vstacked=torch.stack([x,x,x,x], dim=0) #or torch.vstack\n",
        "x_vstacked"
      ],
      "metadata": {
        "colab": {
          "base_uri": "https://localhost:8080/"
        },
        "id": "_CYjpAcWnJhC",
        "outputId": "db0a13ea-09fd-47ed-9344-34bd99c62086"
      },
      "execution_count": 31,
      "outputs": [
        {
          "output_type": "execute_result",
          "data": {
            "text/plain": [
              "tensor([[ 5, 10, 20, 30, 40, 50, 60, 70, 80, 90],\n",
              "        [ 5, 10, 20, 30, 40, 50, 60, 70, 80, 90],\n",
              "        [ 5, 10, 20, 30, 40, 50, 60, 70, 80, 90],\n",
              "        [ 5, 10, 20, 30, 40, 50, 60, 70, 80, 90]])"
            ]
          },
          "metadata": {},
          "execution_count": 31
        }
      ]
    },
    {
      "cell_type": "code",
      "source": [
        "x_hstacked=torch.stack([x,x,x,x], dim=1) #or torch.hstack\n",
        "x_hstacked"
      ],
      "metadata": {
        "colab": {
          "base_uri": "https://localhost:8080/"
        },
        "id": "Bz_wFhFMnW1V",
        "outputId": "45309250-6dec-4c0f-9039-a8dc1b0f5e8b"
      },
      "execution_count": 32,
      "outputs": [
        {
          "output_type": "execute_result",
          "data": {
            "text/plain": [
              "tensor([[ 5,  5,  5,  5],\n",
              "        [10, 10, 10, 10],\n",
              "        [20, 20, 20, 20],\n",
              "        [30, 30, 30, 30],\n",
              "        [40, 40, 40, 40],\n",
              "        [50, 50, 50, 50],\n",
              "        [60, 60, 60, 60],\n",
              "        [70, 70, 70, 70],\n",
              "        [80, 80, 80, 80],\n",
              "        [90, 90, 90, 90]])"
            ]
          },
          "metadata": {},
          "execution_count": 32
        }
      ]
    },
    {
      "cell_type": "code",
      "source": [
        "x_reshaped=x.reshape(1,10)"
      ],
      "metadata": {
        "id": "IADCdkj0oRNB"
      },
      "execution_count": 33,
      "outputs": []
    },
    {
      "cell_type": "code",
      "source": [
        "x_reshaped.shape, x_reshaped.squeeze().shape #removes single dimensions"
      ],
      "metadata": {
        "colab": {
          "base_uri": "https://localhost:8080/"
        },
        "id": "ajPoao2ZnlEX",
        "outputId": "0caaafe5-d527-490c-a614-1c5777721d14"
      },
      "execution_count": 34,
      "outputs": [
        {
          "output_type": "execute_result",
          "data": {
            "text/plain": [
              "(torch.Size([1, 10]), torch.Size([10]))"
            ]
          },
          "metadata": {},
          "execution_count": 34
        }
      ]
    },
    {
      "cell_type": "code",
      "source": [
        "x_reshaped.squeeze().unsqueeze(0),x_reshaped.squeeze().unsqueeze(0).shape"
      ],
      "metadata": {
        "colab": {
          "base_uri": "https://localhost:8080/"
        },
        "id": "ry8WvPmgoFkG",
        "outputId": "010aff35-7e1f-4686-f2c8-84118595a29e"
      },
      "execution_count": 35,
      "outputs": [
        {
          "output_type": "execute_result",
          "data": {
            "text/plain": [
              "(tensor([[ 5, 10, 20, 30, 40, 50, 60, 70, 80, 90]]), torch.Size([1, 10]))"
            ]
          },
          "metadata": {},
          "execution_count": 35
        }
      ]
    },
    {
      "cell_type": "code",
      "source": [
        "original=torch.rand((224,224,3))\n",
        "original"
      ],
      "metadata": {
        "colab": {
          "base_uri": "https://localhost:8080/"
        },
        "id": "MEE8uk0wod4X",
        "outputId": "e4d44659-248d-49e1-e0d8-1e5a86e72997"
      },
      "execution_count": 36,
      "outputs": [
        {
          "output_type": "execute_result",
          "data": {
            "text/plain": [
              "tensor([[[0.6250, 0.7094, 0.6926],\n",
              "         [0.2962, 0.5001, 0.5711],\n",
              "         [0.4491, 0.3852, 0.6257],\n",
              "         ...,\n",
              "         [0.8236, 0.8703, 0.9510],\n",
              "         [0.4641, 0.9950, 0.6770],\n",
              "         [0.7190, 0.9121, 0.8786]],\n",
              "\n",
              "        [[0.8244, 0.4694, 0.3700],\n",
              "         [0.8170, 0.5456, 0.6430],\n",
              "         [0.2788, 0.7211, 0.1072],\n",
              "         ...,\n",
              "         [0.7417, 0.0111, 0.4771],\n",
              "         [0.8347, 0.3324, 0.5567],\n",
              "         [0.4619, 0.7577, 0.9539]],\n",
              "\n",
              "        [[0.4152, 0.2914, 0.9881],\n",
              "         [0.3870, 0.7922, 0.7072],\n",
              "         [0.2974, 0.0498, 0.0099],\n",
              "         ...,\n",
              "         [0.6320, 0.2388, 0.8828],\n",
              "         [0.1250, 0.4320, 0.1739],\n",
              "         [0.6909, 0.3107, 0.4155]],\n",
              "\n",
              "        ...,\n",
              "\n",
              "        [[0.4549, 0.9524, 0.6836],\n",
              "         [0.1335, 0.0641, 0.0892],\n",
              "         [0.3214, 0.3075, 0.5662],\n",
              "         ...,\n",
              "         [0.2667, 0.4464, 0.2652],\n",
              "         [0.7185, 0.4282, 0.6481],\n",
              "         [0.3855, 0.6702, 0.5761]],\n",
              "\n",
              "        [[0.7480, 0.4771, 0.4193],\n",
              "         [0.7497, 0.9891, 0.0617],\n",
              "         [0.6086, 0.1396, 0.0414],\n",
              "         ...,\n",
              "         [0.5558, 0.7525, 0.3667],\n",
              "         [0.0342, 0.7797, 0.5221],\n",
              "         [0.3530, 0.0176, 0.1082]],\n",
              "\n",
              "        [[0.4661, 0.2059, 0.0021],\n",
              "         [0.7804, 0.2327, 0.8250],\n",
              "         [0.1232, 0.1147, 0.6060],\n",
              "         ...,\n",
              "         [0.9769, 0.6893, 0.6561],\n",
              "         [0.9154, 0.3790, 0.1415],\n",
              "         [0.0604, 0.4211, 0.0139]]])"
            ]
          },
          "metadata": {},
          "execution_count": 36
        }
      ]
    },
    {
      "cell_type": "code",
      "source": [
        "permutted=torch.permute(original,(2,0,1))\n",
        "permutted"
      ],
      "metadata": {
        "colab": {
          "base_uri": "https://localhost:8080/"
        },
        "id": "lwZ2KT78pYg3",
        "outputId": "c79e064a-7f62-4bba-ea90-f048c0ef5e76"
      },
      "execution_count": 37,
      "outputs": [
        {
          "output_type": "execute_result",
          "data": {
            "text/plain": [
              "tensor([[[0.6250, 0.2962, 0.4491,  ..., 0.8236, 0.4641, 0.7190],\n",
              "         [0.8244, 0.8170, 0.2788,  ..., 0.7417, 0.8347, 0.4619],\n",
              "         [0.4152, 0.3870, 0.2974,  ..., 0.6320, 0.1250, 0.6909],\n",
              "         ...,\n",
              "         [0.4549, 0.1335, 0.3214,  ..., 0.2667, 0.7185, 0.3855],\n",
              "         [0.7480, 0.7497, 0.6086,  ..., 0.5558, 0.0342, 0.3530],\n",
              "         [0.4661, 0.7804, 0.1232,  ..., 0.9769, 0.9154, 0.0604]],\n",
              "\n",
              "        [[0.7094, 0.5001, 0.3852,  ..., 0.8703, 0.9950, 0.9121],\n",
              "         [0.4694, 0.5456, 0.7211,  ..., 0.0111, 0.3324, 0.7577],\n",
              "         [0.2914, 0.7922, 0.0498,  ..., 0.2388, 0.4320, 0.3107],\n",
              "         ...,\n",
              "         [0.9524, 0.0641, 0.3075,  ..., 0.4464, 0.4282, 0.6702],\n",
              "         [0.4771, 0.9891, 0.1396,  ..., 0.7525, 0.7797, 0.0176],\n",
              "         [0.2059, 0.2327, 0.1147,  ..., 0.6893, 0.3790, 0.4211]],\n",
              "\n",
              "        [[0.6926, 0.5711, 0.6257,  ..., 0.9510, 0.6770, 0.8786],\n",
              "         [0.3700, 0.6430, 0.1072,  ..., 0.4771, 0.5567, 0.9539],\n",
              "         [0.9881, 0.7072, 0.0099,  ..., 0.8828, 0.1739, 0.4155],\n",
              "         ...,\n",
              "         [0.6836, 0.0892, 0.5662,  ..., 0.2652, 0.6481, 0.5761],\n",
              "         [0.4193, 0.0617, 0.0414,  ..., 0.3667, 0.5221, 0.1082],\n",
              "         [0.0021, 0.8250, 0.6060,  ..., 0.6561, 0.1415, 0.0139]]])"
            ]
          },
          "metadata": {},
          "execution_count": 37
        }
      ]
    },
    {
      "cell_type": "code",
      "source": [
        "original.shape, permutted.shape\n",
        "#changing one value in permutted also gets changed in original"
      ],
      "metadata": {
        "colab": {
          "base_uri": "https://localhost:8080/"
        },
        "id": "SJPoyKvXpe09",
        "outputId": "c70aa4de-246b-456b-93e0-b3bedb854aac"
      },
      "execution_count": 38,
      "outputs": [
        {
          "output_type": "execute_result",
          "data": {
            "text/plain": [
              "(torch.Size([224, 224, 3]), torch.Size([3, 224, 224]))"
            ]
          },
          "metadata": {},
          "execution_count": 38
        }
      ]
    },
    {
      "cell_type": "code",
      "source": [],
      "metadata": {
        "id": "1O4E8xeEptOz"
      },
      "execution_count": 38,
      "outputs": []
    },
    {
      "cell_type": "markdown",
      "source": [
        "## Numpy Pytorch"
      ],
      "metadata": {
        "id": "NpELkkx_qZPv"
      }
    },
    {
      "cell_type": "code",
      "source": [
        "array=np.arange(1.0,10.0)\n",
        "tensor=torch.from_numpy(array)\n",
        "array,tensor"
      ],
      "metadata": {
        "colab": {
          "base_uri": "https://localhost:8080/"
        },
        "id": "WVr2zBlRI-GR",
        "outputId": "3938eed3-0da2-4bdd-cd37-15004b152486"
      },
      "execution_count": 39,
      "outputs": [
        {
          "output_type": "execute_result",
          "data": {
            "text/plain": [
              "(array([1., 2., 3., 4., 5., 6., 7., 8., 9.]),\n",
              " tensor([1., 2., 3., 4., 5., 6., 7., 8., 9.], dtype=torch.float64))"
            ]
          },
          "metadata": {},
          "execution_count": 39
        }
      ]
    },
    {
      "cell_type": "code",
      "source": [
        "tensor.numpy()"
      ],
      "metadata": {
        "colab": {
          "base_uri": "https://localhost:8080/"
        },
        "id": "PxZTn_J9JI9C",
        "outputId": "e4b47bdd-3f47-42a1-9796-99069d852e3b"
      },
      "execution_count": 40,
      "outputs": [
        {
          "output_type": "execute_result",
          "data": {
            "text/plain": [
              "array([1., 2., 3., 4., 5., 6., 7., 8., 9.])"
            ]
          },
          "metadata": {},
          "execution_count": 40
        }
      ]
    },
    {
      "cell_type": "code",
      "source": [
        "seed=42\n",
        "torch.manual_seed(seed)\n",
        "seed_tensor=torch.rand(3,3)\n",
        "torch.manual_seed(seed)\n",
        "seed_tensor2=torch.rand(3,3)\n",
        "seed_tensor,seed_tensor2"
      ],
      "metadata": {
        "colab": {
          "base_uri": "https://localhost:8080/"
        },
        "id": "8CqJX6BKJ8T4",
        "outputId": "6dcb8f89-13f5-45ef-8f32-226a54fda1d5"
      },
      "execution_count": 41,
      "outputs": [
        {
          "output_type": "execute_result",
          "data": {
            "text/plain": [
              "(tensor([[0.8823, 0.9150, 0.3829],\n",
              "         [0.9593, 0.3904, 0.6009],\n",
              "         [0.2566, 0.7936, 0.9408]]),\n",
              " tensor([[0.8823, 0.9150, 0.3829],\n",
              "         [0.9593, 0.3904, 0.6009],\n",
              "         [0.2566, 0.7936, 0.9408]]))"
            ]
          },
          "metadata": {},
          "execution_count": 41
        }
      ]
    },
    {
      "cell_type": "markdown",
      "source": [
        "## Checking CUDA"
      ],
      "metadata": {
        "id": "k9pQoNFxOBAt"
      }
    },
    {
      "cell_type": "code",
      "source": [
        "torch.cuda.is_available()"
      ],
      "metadata": {
        "colab": {
          "base_uri": "https://localhost:8080/"
        },
        "id": "0DBXFV1_LXek",
        "outputId": "d8c1196d-ac95-4dbc-a45f-67a80ae10179"
      },
      "execution_count": 42,
      "outputs": [
        {
          "output_type": "execute_result",
          "data": {
            "text/plain": [
              "True"
            ]
          },
          "metadata": {},
          "execution_count": 42
        }
      ]
    },
    {
      "cell_type": "code",
      "source": [
        "device= 'cuda' if torch.cuda.is_available() else 'cpu'\n",
        "device"
      ],
      "metadata": {
        "colab": {
          "base_uri": "https://localhost:8080/",
          "height": 36
        },
        "id": "pVRh60IwNVZ8",
        "outputId": "e3ce038c-ca27-4cdf-8a4a-504dc2904290"
      },
      "execution_count": 43,
      "outputs": [
        {
          "output_type": "execute_result",
          "data": {
            "text/plain": [
              "'cuda'"
            ],
            "application/vnd.google.colaboratory.intrinsic+json": {
              "type": "string"
            }
          },
          "metadata": {},
          "execution_count": 43
        }
      ]
    },
    {
      "cell_type": "code",
      "source": [
        "torch.cuda.device_count()"
      ],
      "metadata": {
        "colab": {
          "base_uri": "https://localhost:8080/"
        },
        "id": "c44Fa6D2Nlfi",
        "outputId": "889b0522-ec25-4ddf-c44f-88aa3f1c070f"
      },
      "execution_count": 44,
      "outputs": [
        {
          "output_type": "execute_result",
          "data": {
            "text/plain": [
              "1"
            ]
          },
          "metadata": {},
          "execution_count": 44
        }
      ]
    },
    {
      "cell_type": "code",
      "source": [
        "tensor=torch.tensor([1,2,3,], device=device)\n",
        "tensor.device"
      ],
      "metadata": {
        "colab": {
          "base_uri": "https://localhost:8080/"
        },
        "id": "L9JBChS-Np8Z",
        "outputId": "d4cecae9-7938-40bc-88f6-30cfd5eff242"
      },
      "execution_count": 46,
      "outputs": [
        {
          "output_type": "execute_result",
          "data": {
            "text/plain": [
              "device(type='cuda', index=0)"
            ]
          },
          "metadata": {},
          "execution_count": 46
        }
      ]
    },
    {
      "cell_type": "code",
      "source": [
        "cputensor=torch.tensor([4,4,5],device='cpu')\n",
        "cputensor, cputensor.to(device)"
      ],
      "metadata": {
        "colab": {
          "base_uri": "https://localhost:8080/"
        },
        "id": "XGfT5gAcOZVH",
        "outputId": "652b2c59-a4b5-47ff-9bc9-b8f5b1765106"
      },
      "execution_count": 48,
      "outputs": [
        {
          "output_type": "execute_result",
          "data": {
            "text/plain": [
              "(tensor([4, 4, 5]), tensor([4, 4, 5], device='cuda:0'))"
            ]
          },
          "metadata": {},
          "execution_count": 48
        }
      ]
    },
    {
      "cell_type": "code",
      "source": [
        "tensor.cpu()  ## Need to because numpy cannot work with tensors no GPU"
      ],
      "metadata": {
        "colab": {
          "base_uri": "https://localhost:8080/"
        },
        "id": "ZraZ3md7OpuS",
        "outputId": "f9556b16-52d1-4597-c3a5-7451723717fb"
      },
      "execution_count": 51,
      "outputs": [
        {
          "output_type": "execute_result",
          "data": {
            "text/plain": [
              "tensor([1, 2, 3])"
            ]
          },
          "metadata": {},
          "execution_count": 51
        }
      ]
    },
    {
      "cell_type": "code",
      "source": [
        "tensor.numpy()"
      ],
      "metadata": {
        "colab": {
          "base_uri": "https://localhost:8080/",
          "height": 164
        },
        "id": "WCOVT0eLPB6p",
        "outputId": "e07bc56b-bc82-48e1-8836-53d3d2f235e9"
      },
      "execution_count": 52,
      "outputs": [
        {
          "output_type": "error",
          "ename": "TypeError",
          "evalue": "can't convert cuda:0 device type tensor to numpy. Use Tensor.cpu() to copy the tensor to host memory first.",
          "traceback": [
            "\u001b[0;31m---------------------------------------------------------------------------\u001b[0m",
            "\u001b[0;31mTypeError\u001b[0m                                 Traceback (most recent call last)",
            "\u001b[0;32m<ipython-input-52-7e3769b303a0>\u001b[0m in \u001b[0;36m<cell line: 1>\u001b[0;34m()\u001b[0m\n\u001b[0;32m----> 1\u001b[0;31m \u001b[0mtensor\u001b[0m\u001b[0;34m.\u001b[0m\u001b[0mnumpy\u001b[0m\u001b[0;34m(\u001b[0m\u001b[0;34m)\u001b[0m\u001b[0;34m\u001b[0m\u001b[0;34m\u001b[0m\u001b[0m\n\u001b[0m",
            "\u001b[0;31mTypeError\u001b[0m: can't convert cuda:0 device type tensor to numpy. Use Tensor.cpu() to copy the tensor to host memory first."
          ]
        }
      ]
    },
    {
      "cell_type": "code",
      "source": [
        "tensor.cpu().numpy()"
      ],
      "metadata": {
        "colab": {
          "base_uri": "https://localhost:8080/"
        },
        "id": "huarHMLGPL93",
        "outputId": "01e4bbb3-58b2-49db-88e7-1af06ef5513b"
      },
      "execution_count": 53,
      "outputs": [
        {
          "output_type": "execute_result",
          "data": {
            "text/plain": [
              "array([1, 2, 3])"
            ]
          },
          "metadata": {},
          "execution_count": 53
        }
      ]
    },
    {
      "cell_type": "code",
      "source": [],
      "metadata": {
        "id": "NomVuxy2PXyE"
      },
      "execution_count": null,
      "outputs": []
    }
  ]
}